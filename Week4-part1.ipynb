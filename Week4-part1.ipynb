{
    "nbformat_minor": 1, 
    "cells": [
        {
            "source": "# The Battle of Neighborhoods\n\n## Week 4 Assignment - Part 1\n\n### Project Title: Berliner Food Recommendation System\n\nWritten by: \u00d6zge Celenk\n\n### Introduction:\n\nBerlin is the capital,  as well as the Germany's largest city that is inhabited by approximately 3.5 Million people. The German capital is also quite famous with its multicultural and diverse urban lifestyle, since it is populated by people coming from many different nations and cultures. Recent statistics count 190+ nationalities living in Berlin.\n\nThe diversity of Berlin's population also highly reflects in the food options available in the city. Berlin is like a large collection of every food tradition and it reflects the huge diversity of people who have made Germany\u2019s new capital their home. Here the restaurants range from Tex-Mex, Mexican, Russian, Italian, Turkish, Iranian, Thai, Indian, Vietnamese, Polish, to Balkan and beyond. Especially Turkish, Indian and Thai cuisine are very popular in the city.\n\n### Problem Description:\nWhether as a tourist, or even as a local, it can be challenging and sometimes even stressful to choose a restaurant in a vast number of food options in Berlin. One might end up spending so much of their valuable time for searching the restaurant that fits their criteria. Plus, one might also end up paying astronomical prices for just average food, just because it was located nearby a famous tourist attraction. It is also possible that new and upcoming restaurants struggle to be discovered among the older, most rated places. Therefore, it would be very beneficial to have a restaurant recommender system that adresses the following points for each restaurant in a chosen area:\n\n1. The type of food / cuisine \n2. The user ratings\n3. Distance from the user\n4. Difference between the costs of this restaurant and the other \"similar\" restaurants\n\nTo address such questions, a company in Berlin decides to allocate this project to me for building a system that uses Foursquare data to help in recommending new places based on their rankings compared to the previously visited ones.\n\nExpectations from this recommender system is to get answer for the above questions, in such a way that it compiles all of the perspectives of managing recommendations. The Berliner food recommendation system is expected to leverage the Foursquare location data to express the following:\n\n1. What types of restaurants are present in a particular neighborhood?\n2. Based on a particular food preference, where are the related restaurants?\n3. How are the rankings of these restaurants with respect to my preferences?\n\n### Target Audience:\nThe target audience of this project is not only limited to tourists but everyone in Berlin who needs help with choosing a restaurant for their spesific preferences. Especially for someone who is in the city for a limited time, it would help them choose where to eat without losing time and avoid paying very high prices. It could also prove useful for locals who are tired of going to the same restaurants, and want to discover new places.\n\n\n", 
            "cell_type": "markdown", 
            "metadata": {
                "collapsed": true
            }
        }, 
        {
            "source": "", 
            "cell_type": "code", 
            "execution_count": null, 
            "outputs": [], 
            "metadata": {}
        }
    ], 
    "nbformat": 4, 
    "metadata": {
        "kernelspec": {
            "display_name": "Python 3.6", 
            "name": "python3", 
            "language": "python"
        }, 
        "language_info": {
            "mimetype": "text/x-python", 
            "nbconvert_exporter": "python", 
            "version": "3.6.8", 
            "name": "python", 
            "pygments_lexer": "ipython3", 
            "file_extension": ".py", 
            "codemirror_mode": {
                "version": 3, 
                "name": "ipython"
            }
        }
    }
}