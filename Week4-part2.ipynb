{
    "nbformat_minor": 1, 
    "cells": [
        {
            "source": "### The Battle of Neighborhoods\n## Part b: Data Reuirements\n\n## Data Description:\n\nIn order to be able to build a food recommendation system in Berlin, lots of location data are needed. For this system, the most important three data attributes that we need from every restaurant in Berlin would be:\n\n1. Its geographical coordinates(latitide and longitude) to find out where exactly it is located.\n2. Population of the neighborhood where the restaurant is located.\n3. Average income of neighborhood to estimate how much is the restaurant worth.\n\nIf we take a closer look at each of these attributes, the geographical coordinates will help us create a map and pin each restaurant on this map according to its coordiantes.\n\n## Data Collection:\n\n### Part 1: Collecting the neighborhoods and boroughs of Berlin, and obtaining their coordinates:\n  + Pandas library was used for parsing the list of neighborhoods,boroughs,population and their sizes into a dataframe that is available in this [webpage.](https://www.atlasbig.com/de-de/berlin-ortsteile). Berlin has 94 districts in total, however, in order to keep the demonstration of the model simple, only the most populated 20 neighborhoods are kept. \n  + There was no list available that includes the latitudes and longitudes of the neighborhoods, so the corresponding coordinates of each neighborhood was added manually to the dataframe. \nHere is a glimpse of the dataset produced after the first two steps:\n![alt-text](https://github.com/oezgeclnk/capstone-project/blob/master/part1.JPG?raw=true \"Dataframe\")\n### Part 2: Adding the average income data per neighborhood\n  + The information related to the average income per neighborhood also had to be done manually, using the statistics available [here.] (https://www.statistik-berlin-brandenburg.de/produkte/kleinestatistik/AP_KleineStatistik_EN_2015_BE.pdf) \n  + The average income per neighborhood was also normalized and added to the dataframe. The income values available were from 2015 and they may not be accurate today, however it should be accurate enough to create a model for demonstration.\nHere is a glimpse of the dataset produced after adding the normalized values of the income, area and population to the dataframe:\n![alt-text](https://github.com/oezgeclnk/capstone-project/blob/master/part2.JPG?raw=true \"dataframe2\")\n###  Part 3: Creating a map of Berlin and adding labels\nUsing the Folium library, a map of berlin was created, and corresponding labels were added using the coordinates of the 20-most populated neighborhoods. The produced map of the city is shown below.\n![alt-text](https://github.com/oezgeclnk/capstone-project/blob/master/berlin_map.JPG?raw=true \"map\")\n### Part 4 : Leveraging the FourSquare API \nFoursquare API is used to fetch nearest venue locations so that they can be used to form clusters. Foursquare api leverages the power of finding nearest venues in a radius (500m) and also corresponding coordinates,venue location and names. Upon calling the API, the following dataframe is created:\n![alt-text](https://github.com/oezgeclnk/capstone-project/blob/master/venues.PNG?raw=true \"venues\")", 
            "cell_type": "markdown", 
            "attachments": {}, 
            "metadata": {
                "collapsed": true
            }
        }, 
        {
            "execution_count": null, 
            "cell_type": "code", 
            "metadata": {}, 
            "outputs": [], 
            "source": ""
        }
    ], 
    "metadata": {
        "kernelspec": {
            "display_name": "Python 3.6", 
            "name": "python3", 
            "language": "python"
        }, 
        "language_info": {
            "mimetype": "text/x-python", 
            "nbconvert_exporter": "python", 
            "version": "3.6.8", 
            "name": "python", 
            "file_extension": ".py", 
            "pygments_lexer": "ipython3", 
            "codemirror_mode": {
                "version": 3, 
                "name": "ipython"
            }
        }
    }, 
    "nbformat": 4
}